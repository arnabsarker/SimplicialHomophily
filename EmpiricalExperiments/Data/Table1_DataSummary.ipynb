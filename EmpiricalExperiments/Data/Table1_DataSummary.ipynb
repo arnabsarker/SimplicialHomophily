{
 "cells": [
  {
   "cell_type": "code",
   "execution_count": 4,
   "metadata": {},
   "outputs": [],
   "source": [
    "import pandas as pd\n",
    "import numpy as np\n",
    "import networkx as nx\n",
    "import os\n",
    "from math import comb"
   ]
  },
  {
   "cell_type": "markdown",
   "metadata": {},
   "source": [
    "## Table 1 Code\n",
    "Data for large datasets (e.g., the social networks) has been removed from this folder due to size constraints, so rerunning this code will result in those datasets not being shown"
   ]
  },
  {
   "cell_type": "code",
   "execution_count": 11,
   "metadata": {},
   "outputs": [],
   "source": [
    "lsn_datasets = [\"soc-youtube\", \"soc-orkut\", \"soc-livejournal\", \"soc-flickr\"]\n",
    "\n",
    "pred_datasets = [\"cont-hospital\", \"cont-workplace-13\", \"cont-workplace-15\", \"hosp-DAWN\", \"bills-senate\", \n",
    "                    \"bills-house\", \"coauth-dblp\", \"cont-primary-school\", \"cont-high-school\"]\n",
    "all_datasets = pred_datasets + lsn_datasets + ['retail-trivago', 'email-Enron', 'cont-village']"
   ]
  },
  {
   "cell_type": "code",
   "execution_count": 18,
   "metadata": {},
   "outputs": [
    {
     "name": "stdout",
     "output_type": "stream",
     "text": [
      "cont-hospital\n",
      "cont-workplace-13\n",
      "cont-workplace-15\n",
      "hosp-DAWN\n",
      "bills-senate\n",
      "bills-house\n",
      "coauth-dblp\n",
      "cont-primary-school\n",
      "cont-high-school\n",
      "soc-youtube\n",
      "soc-orkut\n",
      "soc-livejournal\n",
      "soc-flickr\n",
      "retail-trivago\n",
      "email-Enron\n",
      "cont-village\n"
     ]
    }
   ],
   "source": [
    "# want to report: nodes, edges, filled triangles, number of classes\n",
    "all_info = []\n",
    "for dataset in all_datasets:\n",
    "    print(dataset)\n",
    "    if (dataset in lsn_datasets):\n",
    "        curr_datasets = np.sort([i for i in os.listdir(f'./{dataset}/') if i.startswith(dataset[4:])])\n",
    "        \n",
    "        all_label_dfs = []\n",
    "        all_edge_dfs = []\n",
    "        all_tri_dfs = []\n",
    "        for curr_d in curr_datasets:\n",
    "            all_label_dfs.append( pd.read_csv(f'{dataset}/{curr_d}/labels.csv'))\n",
    "            all_edge_dfs.append( pd.read_csv(f'{dataset}/{curr_d}/edges.csv'))\n",
    "            all_tri_dfs.append( pd.read_csv(f'{dataset}/{curr_d}/triangles.csv'))\n",
    "        \n",
    "        label_df = pd.concat(all_label_dfs).drop_duplicates()\n",
    "        edge_df = pd.concat(all_edge_dfs).drop_duplicates()\n",
    "        tri_df = pd.concat(all_tri_dfs).drop_duplicates()\n",
    "        num_nodes = len(label_df)\n",
    "        num_labels = label_df['group_code'].nunique()\n",
    "        num_edges = len(edge_df)\n",
    "        num_tris = len(tri_df)\n",
    "    else:\n",
    "        label_df = pd.read_csv(f'{dataset}/labels.csv')\n",
    "        label_df = label_df[label_df['group_code'] != -1]\n",
    "        num_nodes = len(label_df)\n",
    "        num_labels = label_df['group_code'].nunique()\n",
    "        num_edges = sum(1 for line in open(f'{dataset}/edges.csv')) - 1\n",
    "        num_tris = sum(1 for line in open(f'{dataset}/triangles.csv')) - 1\n",
    "    \n",
    "    num_time_edges = 0\n",
    "    num_time_triangles = 0\n",
    "    ct = 0\n",
    "    \n",
    "    if dataset in pred_datasets:\n",
    "        with open(f'../../LinkPrediction/data/{dataset}/{dataset}-nverts.txt', 'r') as file:\n",
    "            lines = file.readlines()\n",
    "\n",
    "        for line in lines:\n",
    "            num_simp = int(line)\n",
    "            if(num_simp > 1):\n",
    "                num_time_edges += comb(num_simp, 2)\n",
    "            if (num_simp > 2):\n",
    "                num_time_triangles += comb(num_simp, 3)\n",
    "\n",
    "        with open(f'../../LinkPrediction/data/{dataset}/{dataset}-times.txt', 'r') as file:\n",
    "            tlines = file.readlines()\n",
    "        ct = len(pd.unique(tlines))\n",
    "    \n",
    "    all_info.append({\n",
    "        'Dataset': dataset,\n",
    "        \"nodes\": num_nodes,\n",
    "        \"classes\": num_labels,\n",
    "        \"time_edges\": int(num_time_edges),\n",
    "        \"edges\": num_edges,\n",
    "        \"time_triangles\": int(num_time_triangles),\n",
    "        \"triangles\": num_tris,\n",
    "        \"time_steps\": ct\n",
    "    })"
   ]
  },
  {
   "cell_type": "code",
   "execution_count": 19,
   "metadata": {},
   "outputs": [],
   "source": [
    "dataset_names = {\n",
    " 'cont-village': '\\\\texttt{cont-village}~\\\\cite{ozella2021using}',\n",
    " 'cont-hospital': '\\\\texttt{cont-hospital}~\\\\cite{genois2018can}',\n",
    " 'cont-workplace-13': '\\\\texttt{cont-workplace-13}~\\\\cite{genois2018can} ',\n",
    " 'email-Enron': '\\\\texttt{email-Enron}~\\\\cite{benson2018simplicial}',\n",
    " 'cont-workplace-15': '\\\\texttt{cont-workplace-15}~\\\\cite{genois2018can}',\n",
    " 'cont-primary-school': '\\\\texttt{cont-primary-school}~\\\\cite{genois2018can}',\n",
    " 'bills-senate': '\\\\texttt{bills-senate}~\\\\cite{fowler2006connecting, fowler2006legislative}',\n",
    " 'cont-high-school': '\\\\texttt{cont-high-school}~\\\\cite{genois2018can}',\n",
    " 'bills-house': '\\\\texttt{bills-house}~\\\\cite{fowler2006connecting, fowler2006legislative} ',\n",
    " 'hosp-DAWN': '\\\\texttt{hosp-DAWN}~\\\\cite{benson2018simplicial}',\n",
    " 'soc-youtube': '\\\\texttt{soc-youtube}~\\\\cite{mislove2007measurement}',\n",
    " 'soc-flickr': '\\\\texttt{soc-flickr}~\\\\cite{mislove2007measurement}',\n",
    " 'coauth-dblp': '\\\\texttt{coauth-dblp}~\\\\cite{agarwal2016women}',\n",
    " 'retail-trivago': '\\\\texttt{clicks-trivago}~\\\\cite{benson2018simplicial}',\n",
    " 'soc-livejournal': '\\\\texttt{soc-livejournal}~\\\\cite{mislove2007measurement}',\n",
    " 'soc-orkut': '\\\\texttt{soc-orkut}~\\\\cite{mislove2007measurement}'\n",
    "}"
   ]
  },
  {
   "cell_type": "code",
   "execution_count": 20,
   "metadata": {},
   "outputs": [
    {
     "name": "stdout",
     "output_type": "stream",
     "text": [
      "\\begin{tabular}{llllllll}\n",
      "\\toprule\n",
      "                                                                  Dataset &    nodes & classes &               time_edges &      edges &           time_triangles &  triangles &               time_steps \\\\\n",
      "\\midrule\n",
      "                             \\texttt{cont-village}~\\cite{ozella2021using} &       46 &       5 &  \\rule[.5ex]{1em}{0.5pt} &        329 &  \\rule[.5ex]{1em}{0.5pt} &        610 &  \\rule[.5ex]{1em}{0.5pt} \\\\\n",
      "                              \\texttt{cont-hospital}~\\cite{genois2018can} &       81 &       5 &                  150,126 &      1,381 &                   97,263 &      6,268 &                   12,605 \\\\\n",
      "                         \\texttt{cont-workplace-13}~\\cite{genois2018can}  &      100 &       5 &                  394,247 &      3,915 &                  778,057 &     80,173 &                   20,129 \\\\\n",
      "                         \\texttt{email-Enron}~\\cite{benson2018simplicial} &      148 &       2 &  \\rule[.5ex]{1em}{0.5pt} &      1,344 &  \\rule[.5ex]{1em}{0.5pt} &      1,159 &  \\rule[.5ex]{1em}{0.5pt} \\\\\n",
      "                          \\texttt{cont-workplace-15}~\\cite{genois2018can} &      232 &      12 &                1,283,194 &     16,725 &                7,200,028 &    329,056 &                   21,536 \\\\\n",
      "                        \\texttt{cont-primary-school}~\\cite{genois2018can} &      241 &      11 &                6,594,492 &      8,317 &              107,273,245 &      5,139 &                    3,124 \\\\\n",
      " \\texttt{bills-senate}~\\cite{fowler2006connecting, fowler2006legislative} &      297 &       4 &                   35,993 &     10,555 &                   13,925 &     13,925 &                    4,975 \\\\\n",
      "                           \\texttt{cont-high-school}~\\cite{genois2018can} &      326 &       9 &               18,613,039 &      5,818 &              216,241,910 &      2,370 &                    8,938 \\\\\n",
      " \\texttt{bills-house}~\\cite{fowler2006connecting, fowler2006legislative}  &    1,495 &       3 &                   48,086 &     29,959 &                   19,618 &     19,618 &                    4,871 \\\\\n",
      "                           \\texttt{hosp-DAWN}~\\cite{benson2018simplicial} &    2,558 &     364 &                2,346,571 &    124,155 &                2,546,461 &  1,081,440 &                        8 \\\\\n",
      "                       \\texttt{soc-youtube}~\\cite{mislove2007measurement} &   10,513 &      10 &  \\rule[.5ex]{1em}{0.5pt} &     85,134 &  \\rule[.5ex]{1em}{0.5pt} &     24,903 &  \\rule[.5ex]{1em}{0.5pt} \\\\\n",
      "                        \\texttt{soc-flickr}~\\cite{mislove2007measurement} &   54,104 &      10 &  \\rule[.5ex]{1em}{0.5pt} &  1,231,068 &  \\rule[.5ex]{1em}{0.5pt} &  2,692,349 &  \\rule[.5ex]{1em}{0.5pt} \\\\\n",
      "                             \\texttt{coauth-dblp}~\\cite{agarwal2016women} &  105,256 &       2 &                  415,492 &    316,631 &                  412,120 &    384,549 &                       55 \\\\\n",
      "                      \\texttt{clicks-trivago}~\\cite{benson2018simplicial} &  172,737 &     160 &  \\rule[.5ex]{1em}{0.5pt} &    791,817 &  \\rule[.5ex]{1em}{0.5pt} &  1,187,463 &  \\rule[.5ex]{1em}{0.5pt} \\\\\n",
      "                   \\texttt{soc-livejournal}~\\cite{mislove2007measurement} &  259,865 &      10 &  \\rule[.5ex]{1em}{0.5pt} &    329,954 &  \\rule[.5ex]{1em}{0.5pt} &    176,547 &  \\rule[.5ex]{1em}{0.5pt} \\\\\n",
      "                         \\texttt{soc-orkut}~\\cite{mislove2007measurement} &  399,314 &      10 &  \\rule[.5ex]{1em}{0.5pt} &  1,120,880 &  \\rule[.5ex]{1em}{0.5pt} &     17,339 &  \\rule[.5ex]{1em}{0.5pt} \\\\\n",
      "\\bottomrule\n",
      "\\end{tabular}\n",
      "\n"
     ]
    }
   ],
   "source": [
    "df = pd.DataFrame(all_info).set_index(\"Dataset\").sort_values(by='nodes')\n",
    "df = df.applymap(lambda x: \"{:,}\".format(x) if x > 0 else \"\\\\rule[.5ex]{1em}{0.5pt}\").reset_index()\n",
    "df['Dataset'] = df['Dataset'].map(dataset_names)\n",
    "with pd.option_context(\"max_colwidth\", 1000):\n",
    "    print(df.to_latex(index=False, escape=False))"
   ]
  },
  {
   "cell_type": "code",
   "execution_count": null,
   "metadata": {},
   "outputs": [],
   "source": []
  }
 ],
 "metadata": {
  "kernelspec": {
   "display_name": "Python 3",
   "language": "python",
   "name": "python3"
  },
  "language_info": {
   "codemirror_mode": {
    "name": "ipython",
    "version": 3
   },
   "file_extension": ".py",
   "mimetype": "text/x-python",
   "name": "python",
   "nbconvert_exporter": "python",
   "pygments_lexer": "ipython3",
   "version": "3.8.5"
  },
  "latex_envs": {
   "LaTeX_envs_menu_present": true,
   "autoclose": false,
   "autocomplete": true,
   "bibliofile": "biblio.bib",
   "cite_by": "apalike",
   "current_citInitial": 1,
   "eqLabelWithNumbers": true,
   "eqNumInitial": 1,
   "hotkeys": {
    "equation": "Ctrl-E",
    "itemize": "Ctrl-I"
   },
   "labels_anchors": false,
   "latex_user_defs": false,
   "report_style_numbering": false,
   "user_envs_cfg": false
  },
  "toc": {
   "base_numbering": 1,
   "nav_menu": {},
   "number_sections": true,
   "sideBar": true,
   "skip_h1_title": false,
   "title_cell": "Table of Contents",
   "title_sidebar": "Contents",
   "toc_cell": false,
   "toc_position": {},
   "toc_section_display": true,
   "toc_window_display": false
  },
  "varInspector": {
   "cols": {
    "lenName": 16,
    "lenType": 16,
    "lenVar": 40
   },
   "kernels_config": {
    "python": {
     "delete_cmd_postfix": "",
     "delete_cmd_prefix": "del ",
     "library": "var_list.py",
     "varRefreshCmd": "print(var_dic_list())"
    },
    "r": {
     "delete_cmd_postfix": ") ",
     "delete_cmd_prefix": "rm(",
     "library": "var_list.r",
     "varRefreshCmd": "cat(var_dic_list()) "
    }
   },
   "types_to_exclude": [
    "module",
    "function",
    "builtin_function_or_method",
    "instance",
    "_Feature"
   ],
   "window_display": false
  }
 },
 "nbformat": 4,
 "nbformat_minor": 4
}

{
 "cells": [
  {
   "cell_type": "code",
   "execution_count": 11,
   "metadata": {},
   "outputs": [],
   "source": [
    "import pandas as pd\n",
    "import os"
   ]
  },
  {
   "cell_type": "code",
   "execution_count": 12,
   "metadata": {},
   "outputs": [],
   "source": [
    "all_datasets = [\"cont-workplace-13\", \"cont-workplace-15\", \"cont-hospital\", \"coauth-dblp\",\n",
    "                \"bills-senate\", \"bills-house\", \"hosp-DAWN\", \"cont-primary-school\", \"cont-high-school\"]"
   ]
  },
  {
   "cell_type": "code",
   "execution_count": 13,
   "metadata": {},
   "outputs": [
    {
     "name": "stdout",
     "output_type": "stream",
     "text": [
      "bills-senate\n",
      "5767,nan\n",
      "\n"
     ]
    }
   ],
   "source": [
    "for dataset in all_datasets:\n",
    "    with open(f'../Data/{dataset}/simplices.csv', 'r') as file:\n",
    "            lines = file.readlines()\n",
    "    ts = []\n",
    "    simplices = []\n",
    "    nverts = []\n",
    "    for line in lines:\n",
    "        try:\n",
    "            t = line.split(\",\")[-1][:-1]\n",
    "            ts.append(int(float(t)))\n",
    "\n",
    "            curr_simplices = line.split(\",\")[:-1]\n",
    "            for c in curr_simplices:\n",
    "                if(dataset == 'coauth-dblp'):\n",
    "                    simplices.append(int(float(c)) + 1)\n",
    "                else:\n",
    "                    simplices.append(int(float(c)))\n",
    "\n",
    "            curr_nverts = len(curr_simplices)\n",
    "            nverts.append(curr_nverts)\n",
    "        except:\n",
    "            print(dataset)\n",
    "            print(line)\n",
    "    \n",
    "    with open(f\"../../LinkPrediction/data/{dataset}/{dataset}-times.txt\", 'w') as f:\n",
    "        for item in ts:\n",
    "            f.write(\"%s\\n\" % item)\n",
    "            \n",
    "    with open(f\"../../LinkPrediction/data/{dataset}/{dataset}-nverts.txt\", 'w') as f:\n",
    "        for item in nverts:\n",
    "            f.write(\"%s\\n\" % item)\n",
    "            \n",
    "    with open(f\"../../LinkPrediction/data/{dataset}/{dataset}-simplices.txt\", 'w') as f:\n",
    "        for item in simplices:\n",
    "            f.write(\"%s\\n\" % item)\n",
    "            \n",
    "    label_df = pd.read_csv(f\"../Data/{dataset}/labels.csv\")\n",
    "    if(dataset == 'coauth-dblp'):\n",
    "        label_df['id'] = label_df['id'] + 1\n",
    "    label_df.to_csv(f\"../../LinkPrediction/data/{dataset}/{dataset}-labels.csv\", index=False)\n",
    "    \n",
    "    "
   ]
  },
  {
   "cell_type": "code",
   "execution_count": null,
   "metadata": {},
   "outputs": [],
   "source": []
  }
 ],
 "metadata": {
  "kernelspec": {
   "display_name": "Python 3",
   "language": "python",
   "name": "python3"
  },
  "language_info": {
   "codemirror_mode": {
    "name": "ipython",
    "version": 3
   },
   "file_extension": ".py",
   "mimetype": "text/x-python",
   "name": "python",
   "nbconvert_exporter": "python",
   "pygments_lexer": "ipython3",
   "version": "3.8.5"
  },
  "latex_envs": {
   "LaTeX_envs_menu_present": true,
   "autoclose": false,
   "autocomplete": true,
   "bibliofile": "biblio.bib",
   "cite_by": "apalike",
   "current_citInitial": 1,
   "eqLabelWithNumbers": true,
   "eqNumInitial": 1,
   "hotkeys": {
    "equation": "Ctrl-E",
    "itemize": "Ctrl-I"
   },
   "labels_anchors": false,
   "latex_user_defs": false,
   "report_style_numbering": false,
   "user_envs_cfg": false
  },
  "toc": {
   "base_numbering": 1,
   "nav_menu": {},
   "number_sections": true,
   "sideBar": true,
   "skip_h1_title": false,
   "title_cell": "Table of Contents",
   "title_sidebar": "Contents",
   "toc_cell": false,
   "toc_position": {},
   "toc_section_display": true,
   "toc_window_display": false
  },
  "varInspector": {
   "cols": {
    "lenName": 16,
    "lenType": 16,
    "lenVar": 40
   },
   "kernels_config": {
    "python": {
     "delete_cmd_postfix": "",
     "delete_cmd_prefix": "del ",
     "library": "var_list.py",
     "varRefreshCmd": "print(var_dic_list())"
    },
    "r": {
     "delete_cmd_postfix": ") ",
     "delete_cmd_prefix": "rm(",
     "library": "var_list.r",
     "varRefreshCmd": "cat(var_dic_list()) "
    }
   },
   "types_to_exclude": [
    "module",
    "function",
    "builtin_function_or_method",
    "instance",
    "_Feature"
   ],
   "window_display": false
  }
 },
 "nbformat": 4,
 "nbformat_minor": 4
}

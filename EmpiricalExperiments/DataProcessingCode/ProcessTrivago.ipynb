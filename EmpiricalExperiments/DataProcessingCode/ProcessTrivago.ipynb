{
 "cells": [
  {
   "cell_type": "code",
   "execution_count": 2,
   "metadata": {},
   "outputs": [],
   "source": [
    "import pandas as pd\n",
    "import numpy as np\n",
    "import itertools\n",
    "\n",
    "from ipywidgets import IntProgress\n",
    "from IPython.display import display\n",
    "import time"
   ]
  },
  {
   "cell_type": "code",
   "execution_count": 4,
   "metadata": {},
   "outputs": [],
   "source": [
    "## labels\n",
    "name = 'trivago-clicks'\n",
    "new_name = 'retail-trivago'\n",
    "label_df = pd.read_csv(f'../RawData/{name}/node-labels-{name}.txt')\n",
    "label_df = label_df.reset_index()\n",
    "label_df.columns = ['id', 'group_code']\n",
    "label_df['id'] = label_df['id'] + 1\n",
    "label_df['group_code'] = label_df['group_code'] - 1\n",
    "label_df.to_csv(f'../Data/{new_name}/labels.csv', index=False)"
   ]
  },
  {
   "cell_type": "markdown",
   "metadata": {},
   "source": [
    "## All Edges/Triangles"
   ]
  },
  {
   "cell_type": "code",
   "execution_count": 5,
   "metadata": {},
   "outputs": [],
   "source": [
    "all_edges = []\n",
    "all_triangles = []\n",
    "\n",
    "ct = 0\n",
    "with open(f'../RawData/{name}/hyperedges-{name}.txt') as file:\n",
    "    for line in file:\n",
    "        nodes = [int(i.strip()) for i in line.split(\",\")]\n",
    "        \n",
    "        if(len(nodes) > 10):\n",
    "            continue\n",
    "        \n",
    "        pairs = itertools.combinations(nodes, 2)\n",
    "        \n",
    "        for u, v in pairs:\n",
    "            min_e = min(u, v)\n",
    "            max_e = max(u, v)\n",
    "            all_edges.append([min_e, max_e])\n",
    "                \n",
    "        triads = itertools.combinations(nodes, 3)\n",
    "        \n",
    "        for t in triads:\n",
    "            min_t, mid_t, max_t = sorted(t)\n",
    "            all_triangles.append([min_t, mid_t, max_t])\n"
   ]
  },
  {
   "cell_type": "code",
   "execution_count": 7,
   "metadata": {},
   "outputs": [],
   "source": [
    "e_df = pd.DataFrame(all_edges).drop_duplicates()\n",
    "e_df.columns = ['node_1', 'node_2']\n",
    "\n",
    "e_df.to_csv(f'../Data/{new_name}/edges.csv', index=False)\n",
    "\n",
    "t_df = pd.DataFrame(all_triangles).drop_duplicates()\n",
    "t_df.columns = ['node_1', 'node_2', 'node_3']\n",
    "\n",
    "t_df.to_csv(f'../Data/{new_name}/triangles.csv', index=False)"
   ]
  },
  {
   "cell_type": "code",
   "execution_count": null,
   "metadata": {},
   "outputs": [],
   "source": []
  }
 ],
 "metadata": {
  "kernelspec": {
   "display_name": "Python 3",
   "language": "python",
   "name": "python3"
  },
  "language_info": {
   "codemirror_mode": {
    "name": "ipython",
    "version": 3
   },
   "file_extension": ".py",
   "mimetype": "text/x-python",
   "name": "python",
   "nbconvert_exporter": "python",
   "pygments_lexer": "ipython3",
   "version": "3.8.5"
  },
  "latex_envs": {
   "LaTeX_envs_menu_present": true,
   "autoclose": false,
   "autocomplete": true,
   "bibliofile": "biblio.bib",
   "cite_by": "apalike",
   "current_citInitial": 1,
   "eqLabelWithNumbers": true,
   "eqNumInitial": 1,
   "hotkeys": {
    "equation": "Ctrl-E",
    "itemize": "Ctrl-I"
   },
   "labels_anchors": false,
   "latex_user_defs": false,
   "report_style_numbering": false,
   "user_envs_cfg": false
  },
  "toc": {
   "base_numbering": 1,
   "nav_menu": {},
   "number_sections": true,
   "sideBar": true,
   "skip_h1_title": false,
   "title_cell": "Table of Contents",
   "title_sidebar": "Contents",
   "toc_cell": false,
   "toc_position": {},
   "toc_section_display": true,
   "toc_window_display": false
  },
  "varInspector": {
   "cols": {
    "lenName": 16,
    "lenType": 16,
    "lenVar": 40
   },
   "kernels_config": {
    "python": {
     "delete_cmd_postfix": "",
     "delete_cmd_prefix": "del ",
     "library": "var_list.py",
     "varRefreshCmd": "print(var_dic_list())"
    },
    "r": {
     "delete_cmd_postfix": ") ",
     "delete_cmd_prefix": "rm(",
     "library": "var_list.r",
     "varRefreshCmd": "cat(var_dic_list()) "
    }
   },
   "types_to_exclude": [
    "module",
    "function",
    "builtin_function_or_method",
    "instance",
    "_Feature"
   ],
   "window_display": false
  }
 },
 "nbformat": 4,
 "nbformat_minor": 2
}

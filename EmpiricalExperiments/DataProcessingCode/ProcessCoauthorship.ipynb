{
 "cells": [
  {
   "cell_type": "code",
   "execution_count": 1,
   "metadata": {},
   "outputs": [],
   "source": [
    "import pandas as pd\n",
    "import numpy as np\n",
    "import networkx as nx\n",
    "from itertools import combinations\n",
    "import re"
   ]
  },
  {
   "cell_type": "markdown",
   "metadata": {},
   "source": [
    "## coauth-dblp"
   ]
  },
  {
   "cell_type": "code",
   "execution_count": 2,
   "metadata": {},
   "outputs": [],
   "source": [
    "author_df = pd.read_csv(\"../RawData/dblp-gender-tsvs/authors.tsv\", sep='\\t')\n",
    "general_df = pd.read_csv(\"../RawData/dblp-gender-tsvs/general.tsv\", sep='\\t')\n",
    "affiliation_df = pd.read_csv(\"../RawData/dblp-gender-tsvs/affiliation.tsv\", sep='\\t')"
   ]
  },
  {
   "cell_type": "code",
   "execution_count": 3,
   "metadata": {},
   "outputs": [],
   "source": [
    "## Give each name a unique id\n",
    "ids = {name: i for i, name in enumerate(pd.unique(author_df['name']))}"
   ]
  },
  {
   "cell_type": "code",
   "execution_count": 6,
   "metadata": {},
   "outputs": [],
   "source": [
    "label_df = author_df[['name', 'gender']].drop_duplicates().rename(columns={'gender': 'group_code'})\n",
    "label_df['id'] = author_df['name'].map(ids)\n",
    "label_df['group_code'] = label_df['group_code'].map({\n",
    "    \"M\": 0,\n",
    "    \"F\": 1,\n",
    "    \"-\": -1\n",
    "})\n",
    "every_og_node = list(label_df['id'])\n",
    "good_nodes = list(label_df[label_df['group_code'] != -1]['id'])\n",
    "label_df = label_df[label_df['id'].isin(good_nodes)]\n",
    "label_df[['id','group_code']].to_csv('../Data/coauth-dblp/labels.csv', index=False)"
   ]
  },
  {
   "cell_type": "code",
   "execution_count": 7,
   "metadata": {},
   "outputs": [],
   "source": [
    "is_node_good = {k:False for k in every_og_node}\n",
    "for k in good_nodes:\n",
    "    is_node_good[k] = True"
   ]
  },
  {
   "cell_type": "code",
   "execution_count": 8,
   "metadata": {},
   "outputs": [],
   "source": [
    "## Generate edges and triangles with year\n",
    "full_df = pd.merge(author_df, general_df, on='k', how='left')\n",
    "full_df['node_id'] = full_df['name'].map(ids)\n",
    "elist = []\n",
    "tlist = []\n",
    "slist = []\n",
    "for paper, df in full_df.groupby('k'):\n",
    "    all_nodes = list(df['node_id'])\n",
    "    all_nodes = [i for i in all_nodes if is_node_good[i]]\n",
    "    if(len(all_nodes) > 1):\n",
    "        year = df['year'].iloc[0]\n",
    "        for e in combinations(all_nodes, 2):\n",
    "            elist.append((e[0], e[1], year))\n",
    "        for t in combinations(all_nodes, 3):\n",
    "            tlist.append((t[0], t[1], t[2], year))\n",
    "        slist.append(all_nodes + [year])"
   ]
  },
  {
   "cell_type": "code",
   "execution_count": 9,
   "metadata": {},
   "outputs": [],
   "source": [
    "e_df = pd.DataFrame(elist)\n",
    "e_df.columns = ['node_1', 'node_2', 't']\n",
    "e_df = e_df[['node_1', 'node_2']].drop_duplicates()\n",
    "e_df.to_csv('../Data/coauth-dblp/edges.csv', index=False)\n",
    "\n",
    "t_df = pd.DataFrame(tlist)\n",
    "t_df.columns = ['node_1', 'node_2', 'node_3', 't']\n",
    "t_df = t_df[['node_1', 'node_2', 'node_3']].drop_duplicates()\n",
    "t_df.to_csv('../Data/coauth-dblp/triangles.csv', index=False)\n",
    "\n",
    "with open('../Data/coauth-dblp/simplices.csv', 'w') as f:\n",
    "    for item in slist:\n",
    "        f.write(\"%s\\n\" % \",\".join([str(i) for i in item]))"
   ]
  },
  {
   "cell_type": "code",
   "execution_count": null,
   "metadata": {},
   "outputs": [],
   "source": []
  }
 ],
 "metadata": {
  "kernelspec": {
   "display_name": "Python 3",
   "language": "python",
   "name": "python3"
  },
  "language_info": {
   "codemirror_mode": {
    "name": "ipython",
    "version": 3
   },
   "file_extension": ".py",
   "mimetype": "text/x-python",
   "name": "python",
   "nbconvert_exporter": "python",
   "pygments_lexer": "ipython3",
   "version": "3.8.5"
  },
  "latex_envs": {
   "LaTeX_envs_menu_present": true,
   "autoclose": false,
   "autocomplete": true,
   "bibliofile": "biblio.bib",
   "cite_by": "apalike",
   "current_citInitial": 1,
   "eqLabelWithNumbers": true,
   "eqNumInitial": 1,
   "hotkeys": {
    "equation": "Ctrl-E",
    "itemize": "Ctrl-I"
   },
   "labels_anchors": false,
   "latex_user_defs": false,
   "report_style_numbering": false,
   "user_envs_cfg": false
  },
  "toc": {
   "base_numbering": 1,
   "nav_menu": {},
   "number_sections": true,
   "sideBar": true,
   "skip_h1_title": false,
   "title_cell": "Table of Contents",
   "title_sidebar": "Contents",
   "toc_cell": false,
   "toc_position": {},
   "toc_section_display": true,
   "toc_window_display": false
  },
  "varInspector": {
   "cols": {
    "lenName": 16,
    "lenType": 16,
    "lenVar": 40
   },
   "kernels_config": {
    "python": {
     "delete_cmd_postfix": "",
     "delete_cmd_prefix": "del ",
     "library": "var_list.py",
     "varRefreshCmd": "print(var_dic_list())"
    },
    "r": {
     "delete_cmd_postfix": ") ",
     "delete_cmd_prefix": "rm(",
     "library": "var_list.r",
     "varRefreshCmd": "cat(var_dic_list()) "
    }
   },
   "types_to_exclude": [
    "module",
    "function",
    "builtin_function_or_method",
    "instance",
    "_Feature"
   ],
   "window_display": false
  }
 },
 "nbformat": 4,
 "nbformat_minor": 4
}

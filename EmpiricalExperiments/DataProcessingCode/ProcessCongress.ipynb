{
 "cells": [
  {
   "cell_type": "code",
   "execution_count": 10,
   "metadata": {},
   "outputs": [],
   "source": [
    "import pandas as pd\n",
    "import numpy as np\n",
    "import os\n",
    "from itertools import combinations"
   ]
  },
  {
   "cell_type": "code",
   "execution_count": 11,
   "metadata": {},
   "outputs": [],
   "source": [
    "os.makedirs(\"../Data/bills-senate/\", exist_ok=True)\n",
    "os.makedirs(\"../Data/bills-house/\", exist_ok=True)"
   ]
  },
  {
   "cell_type": "code",
   "execution_count": 12,
   "metadata": {},
   "outputs": [],
   "source": [
    "## labels\n",
    "senate_df = pd.read_csv(\"../RawData/congress/Cosponsor/senate.csv\")\n",
    "senate_labels = senate_df.groupby(\"id\")['party'].apply(list).reset_index()\n",
    "senate_labels['group_code'] = senate_labels['party'].apply(lambda lst: max(set(lst), key=lst.count))\n",
    "senate_labels[['id', 'group_code']].to_csv(\"../Data/bills-senate/labels.csv\", index=False)\n",
    "\n",
    "house_df = pd.read_csv(\"../RawData/congress/Cosponsor/house.csv\")\n",
    "house_labels = house_df.groupby(\"id\")['party'].apply(list).reset_index()\n",
    "house_labels['group_code'] = house_labels['party'].apply(lambda lst: max(set(lst), key=lst.count))\n",
    "house_labels[['id', 'group_code']].to_csv(\"../Data/bills-house/labels.csv\", index=False)"
   ]
  },
  {
   "cell_type": "code",
   "execution_count": 13,
   "metadata": {},
   "outputs": [],
   "source": [
    "## edges and triangles\n",
    "bills_df = pd.read_csv(\"../RawData/congress/Cosponsor/bills.txt\", names=['bill_name'])\n",
    "sponsors_df = pd.read_csv(\"../RawData/congress/Cosponsor/sponsors.txt\", names=['sponsor_id'])\n",
    "cosponsors_df = pd.read_csv(\"../RawData/congress/Cosponsor/cosponsors.txt\", names=['cosponsor_list'])\n",
    "dates_df = pd.read_csv(\"../RawData/congress/Cosponsor/dates.txt\", names=['date'])\n",
    "\n",
    "full_df = bills_df.copy()\n",
    "full_df['sponsor_id'] = sponsors_df['sponsor_id']\n",
    "full_df['cosponsor_list'] = cosponsors_df['cosponsor_list']\n",
    "full_df['date'] = pd.to_datetime(dates_df['date'])\n",
    "full_df['t'] = full_df['date'].apply(lambda x: (x - pd.to_datetime(\"1973-01-01\")).days)\n",
    "\n",
    "full_df = full_df.dropna(subset=['sponsor_id'])\n",
    "def make_list(x):\n",
    "    p1 = int(x['sponsor_id'])\n",
    "    rest = [] if pd.isnull(x['cosponsor_list']) else [int(i) for i in x['cosponsor_list'].split(\" \")]\n",
    "    return [p1] + rest\n",
    "full_df['nodes'] = full_df.apply(make_list, axis=1)"
   ]
  },
  {
   "cell_type": "code",
   "execution_count": 14,
   "metadata": {},
   "outputs": [],
   "source": [
    "senate_edges = []\n",
    "senate_triangles = []\n",
    "house_edges = []\n",
    "house_triangles = []\n",
    "\n",
    "house_simplices = []\n",
    "senate_simplices = []\n",
    "for i, row in full_df.iterrows():\n",
    "    nodes = row['nodes']\n",
    "    bill_name = row['bill_name']\n",
    "    t = row['t']\n",
    "    if(len(nodes) <= 4):\n",
    "        for i, j in combinations(nodes, 2):\n",
    "            n1, n2 = np.sort([i, j])\n",
    "            if (bill_name.startswith(\"HR\")):\n",
    "                house_edges.append((n1, n2, t))\n",
    "            if (bill_name.startswith(\"SN\")):\n",
    "                senate_edges.append((n1, n2, t))\n",
    "            \n",
    "        for i, j, k in combinations(nodes, 3):\n",
    "            n1, n2, n3 = np.sort([i, j, k])\n",
    "            if (bill_name.startswith(\"HR\")):\n",
    "                house_triangles.append((n1, n2, n3, t))\n",
    "            if (bill_name.startswith(\"SN\")):\n",
    "                senate_triangles.append((n1, n2, n3, t))\n",
    "        \n",
    "        \n",
    "        if (bill_name.startswith(\"HR\")):\n",
    "            house_simplices.append(nodes + [t])\n",
    "        if (bill_name.startswith(\"SN\")):\n",
    "            senate_simplices.append(nodes + [t])"
   ]
  },
  {
   "cell_type": "code",
   "execution_count": 15,
   "metadata": {},
   "outputs": [],
   "source": [
    "house_edge_df = pd.DataFrame(house_edges)\n",
    "house_edge_df.columns = ['node_1', 'node_2', 't']\n",
    "house_edge_df = house_edge_df[['node_1', 'node_2']].drop_duplicates()\n",
    "house_edge_df.to_csv(\"../Data/bills-house/edges.csv\", index=False)\n",
    "\n",
    "house_triangle_df = pd.DataFrame(house_triangles)\n",
    "house_triangle_df.columns = ['node_1', 'node_2', 'node_3', 't']\n",
    "house_triangle_df.to_csv(\"../Data/bills-house/triangles.csv\", index=False)"
   ]
  },
  {
   "cell_type": "code",
   "execution_count": 17,
   "metadata": {},
   "outputs": [],
   "source": [
    "senate_edge_df = pd.DataFrame(senate_edges)\n",
    "senate_edge_df.columns = ['node_1', 'node_2', 't']\n",
    "senate_edge_df = senate_edge_df[['node_1', 'node_2']].drop_duplicates()\n",
    "senate_edge_df.to_csv(\"../Data/bills-senate/edges.csv\", index=False)\n",
    "\n",
    "senate_triangle_df = pd.DataFrame(senate_triangles)\n",
    "senate_triangle_df.columns = ['node_1', 'node_2', 'node_3', 't']\n",
    "senate_triangle_df.to_csv(\"../Data/bills-senate/triangles.csv\", index=False)"
   ]
  },
  {
   "cell_type": "code",
   "execution_count": 18,
   "metadata": {},
   "outputs": [],
   "source": [
    "house_simplices.sort(key=lambda x: x[-1])\n",
    "with open(f'../Data/bills-house/simplices.csv', 'w') as f:\n",
    "    for item in house_simplices:\n",
    "        f.write(\"%s\\n\" % \",\".join([str(i) for i in item]))\n",
    "\n",
    "senate_simplices.sort(key=lambda x: x[-1])\n",
    "with open(f'../Data/bills-senate/simplices.csv', 'w') as f:\n",
    "    for item in senate_simplices:\n",
    "        f.write(\"%s\\n\" % \",\".join([str(i) for i in item]))"
   ]
  },
  {
   "cell_type": "code",
   "execution_count": null,
   "metadata": {},
   "outputs": [],
   "source": []
  }
 ],
 "metadata": {
  "kernelspec": {
   "display_name": "Python 3",
   "language": "python",
   "name": "python3"
  },
  "language_info": {
   "codemirror_mode": {
    "name": "ipython",
    "version": 3
   },
   "file_extension": ".py",
   "mimetype": "text/x-python",
   "name": "python",
   "nbconvert_exporter": "python",
   "pygments_lexer": "ipython3",
   "version": "3.8.5"
  },
  "latex_envs": {
   "LaTeX_envs_menu_present": true,
   "autoclose": false,
   "autocomplete": true,
   "bibliofile": "biblio.bib",
   "cite_by": "apalike",
   "current_citInitial": 1,
   "eqLabelWithNumbers": true,
   "eqNumInitial": 1,
   "hotkeys": {
    "equation": "Ctrl-E",
    "itemize": "Ctrl-I"
   },
   "labels_anchors": false,
   "latex_user_defs": false,
   "report_style_numbering": false,
   "user_envs_cfg": false
  },
  "toc": {
   "base_numbering": 1,
   "nav_menu": {},
   "number_sections": true,
   "sideBar": true,
   "skip_h1_title": false,
   "title_cell": "Table of Contents",
   "title_sidebar": "Contents",
   "toc_cell": false,
   "toc_position": {},
   "toc_section_display": true,
   "toc_window_display": false
  },
  "varInspector": {
   "cols": {
    "lenName": 16,
    "lenType": 16,
    "lenVar": 40
   },
   "kernels_config": {
    "python": {
     "delete_cmd_postfix": "",
     "delete_cmd_prefix": "del ",
     "library": "var_list.py",
     "varRefreshCmd": "print(var_dic_list())"
    },
    "r": {
     "delete_cmd_postfix": ") ",
     "delete_cmd_prefix": "rm(",
     "library": "var_list.r",
     "varRefreshCmd": "cat(var_dic_list()) "
    }
   },
   "types_to_exclude": [
    "module",
    "function",
    "builtin_function_or_method",
    "instance",
    "_Feature"
   ],
   "window_display": false
  }
 },
 "nbformat": 4,
 "nbformat_minor": 4
}

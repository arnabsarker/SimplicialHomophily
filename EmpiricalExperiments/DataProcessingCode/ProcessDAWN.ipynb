{
 "cells": [
  {
   "cell_type": "code",
   "execution_count": 1,
   "metadata": {},
   "outputs": [],
   "source": [
    "import pandas as pd\n",
    "import networkx as nx\n",
    "import numpy as np\n",
    "from itertools import combinations\n",
    "import os\n",
    "import gc"
   ]
  },
  {
   "cell_type": "code",
   "execution_count": 3,
   "metadata": {},
   "outputs": [
    {
     "name": "stdout",
     "output_type": "stream",
     "text": [
      "2004\n",
      "2005\n",
      "2006\n",
      "2007\n",
      "2008\n",
      "2009\n"
     ]
    },
    {
     "name": "stderr",
     "output_type": "stream",
     "text": [
      "/state/partition1/llgrid/pkg/anaconda/anaconda3-2021a/lib/python3.8/site-packages/IPython/core/interactiveshell.py:3146: DtypeWarning: Columns (8,13,280,281,282,283,284) have mixed types.Specify dtype option on import or set low_memory=False.\n",
      "  has_raised = await self.run_ast_nodes(code_ast.body, cell_name,\n"
     ]
    },
    {
     "name": "stdout",
     "output_type": "stream",
     "text": [
      "2010\n",
      "2011\n"
     ]
    }
   ],
   "source": [
    "labels = []\n",
    "elist = []\n",
    "tlist = []\n",
    "slist = []\n",
    "for year in range(2004,2012):\n",
    "    print(year)\n",
    "    df = pd.read_csv(f\"../RawData/DAWN/DAWN-{year}-DS0001-data-excel.tsv\", sep=\"\\t\")\n",
    "    for idx, row in df.iterrows():\n",
    "        drug_cols = [i for i in row.index if i.startswith(\"DRUGID\") and row[i] != -7]\n",
    "        t = row['YEAR'] + (row['QUARTER']-1) / 4\n",
    "        drugs = list(row[drug_cols])\n",
    "        for i,j in combinations(drugs, 2):\n",
    "            i, j = np.sort([i,j])\n",
    "            elist.append((i, j, t))\n",
    "\n",
    "        for i,j, k in combinations(drugs, 3):\n",
    "            i, j,k = np.sort([i,j, k])\n",
    "            tlist.append((i, j, k, t))\n",
    "\n",
    "        for col in drug_cols:\n",
    "            idx = int(col.split(\"_\")[1])\n",
    "            labels.append((row[col], row[f'CATID_1_{idx}'], row[f'CATID_2_{idx}'], row[f'CATID_3_{idx}']))\n",
    "\n",
    "        slist.append(drugs + [t])\n",
    "    gc.collect()"
   ]
  },
  {
   "cell_type": "code",
   "execution_count": 4,
   "metadata": {},
   "outputs": [],
   "source": [
    "label_df = pd.DataFrame(labels)\n",
    "label_df.columns = ['id', 'group_id1', 'group_id2', 'group_id3']\n",
    "label_df['group'] = label_df[['group_id1', 'group_id2', 'group_id3']].apply(tuple, axis=1)"
   ]
  },
  {
   "cell_type": "code",
   "execution_count": 5,
   "metadata": {},
   "outputs": [],
   "source": [
    "all_labels = [ i for i in pd.unique(label_df['group'])]\n",
    "label_dict = {name: i for i, name in enumerate(all_labels)}\n",
    "label_df['group_code'] = label_df['group'].map(label_dict) \n",
    "label_df = label_df[['id', 'group_code']].drop_duplicates()"
   ]
  },
  {
   "cell_type": "code",
   "execution_count": 7,
   "metadata": {},
   "outputs": [],
   "source": [
    "dir_name = \"hosp-DAWN\"\n",
    "os.makedirs(f\"../Data/{dir_name}\", exist_ok=True)\n",
    "\n",
    "label_df.to_csv(f'../Data/{dir_name}/labels.csv', index=False)\n",
    "\n",
    "e_df = pd.DataFrame(elist)\n",
    "e_df.columns = ['node_1', 'node_2', 't']\n",
    "e_df = e_df[['node_1', 'node_2']].drop_duplicates()\n",
    "e_df.to_csv(f'../Data/{dir_name}/edges.csv', index=False)\n",
    "\n",
    "t_df = pd.DataFrame(tlist)\n",
    "t_df.columns = ['node_1', 'node_2', 'node_3', 't']\n",
    "t_df = t_df[['node_1', 'node_2', 'node_3']].drop_duplicates()\n",
    "t_df.to_csv(f'../Data/{dir_name}/triangles.csv', index=False)\n",
    "\n",
    "with open(f'../Data/{dir_name}/simplices.csv', 'w') as f:\n",
    "    for item in slist:\n",
    "        f.write(\"%s\\n\" % \",\".join([str(i) for i in item]))"
   ]
  },
  {
   "cell_type": "code",
   "execution_count": null,
   "metadata": {},
   "outputs": [],
   "source": []
  }
 ],
 "metadata": {
  "kernelspec": {
   "display_name": "Python 3",
   "language": "python",
   "name": "python3"
  },
  "language_info": {
   "codemirror_mode": {
    "name": "ipython",
    "version": 3
   },
   "file_extension": ".py",
   "mimetype": "text/x-python",
   "name": "python",
   "nbconvert_exporter": "python",
   "pygments_lexer": "ipython3",
   "version": "3.8.5"
  },
  "latex_envs": {
   "LaTeX_envs_menu_present": true,
   "autoclose": false,
   "autocomplete": true,
   "bibliofile": "biblio.bib",
   "cite_by": "apalike",
   "current_citInitial": 1,
   "eqLabelWithNumbers": true,
   "eqNumInitial": 1,
   "hotkeys": {
    "equation": "Ctrl-E",
    "itemize": "Ctrl-I"
   },
   "labels_anchors": false,
   "latex_user_defs": false,
   "report_style_numbering": false,
   "user_envs_cfg": false
  },
  "toc": {
   "base_numbering": 1,
   "nav_menu": {},
   "number_sections": true,
   "sideBar": true,
   "skip_h1_title": false,
   "title_cell": "Table of Contents",
   "title_sidebar": "Contents",
   "toc_cell": false,
   "toc_position": {},
   "toc_section_display": true,
   "toc_window_display": false
  },
  "varInspector": {
   "cols": {
    "lenName": 16,
    "lenType": 16,
    "lenVar": 40
   },
   "kernels_config": {
    "python": {
     "delete_cmd_postfix": "",
     "delete_cmd_prefix": "del ",
     "library": "var_list.py",
     "varRefreshCmd": "print(var_dic_list())"
    },
    "r": {
     "delete_cmd_postfix": ") ",
     "delete_cmd_prefix": "rm(",
     "library": "var_list.r",
     "varRefreshCmd": "cat(var_dic_list()) "
    }
   },
   "types_to_exclude": [
    "module",
    "function",
    "builtin_function_or_method",
    "instance",
    "_Feature"
   ],
   "window_display": false
  }
 },
 "nbformat": 4,
 "nbformat_minor": 4
}

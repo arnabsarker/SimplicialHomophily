{
 "cells": [
  {
   "cell_type": "code",
   "execution_count": 1,
   "metadata": {},
   "outputs": [],
   "source": [
    "import pandas as pd\n",
    "import matplotlib.pyplot as plt\n",
    "from matplotlib.patches import Patch\n",
    "import matplotlib as mpl\n",
    "mpl.rc('font',size=11)"
   ]
  },
  {
   "cell_type": "markdown",
   "metadata": {},
   "source": [
    "## Result Description\n",
    "\n",
    "Files created:\n",
    "\n",
    "* `Results/global_homophily_part_{number}.csv` each contains global homophily results for a couple of datasets (other than the large social networks). The columns are \n",
    "    - observed_proportion: proportion of filled triangles which are homophilous\n",
    "    - closed_baseline: proportion of closed triangles which are homophilous\n",
    "    - node_baseline: expected number of homophilous filled triangles based on the node baseline\n",
    "    - simplicial_ratio: observed_proportion / closed_baseline\n",
    "    - hypergraph_ratio: observed_proportion / node_baseline\n",
    "    - \"number filled (hom, total)\": tuple of number of homophilous filled triangles and total filled triangles in the data \n",
    "    - \"number closed (hom, total)\": tuple of number of homophilous closed triangles and total closed triangles in the data \n",
    "\n",
    "\n",
    "* For the large social network data, the files in `Results/{network}/global_homophily_part_{number}.csv` contains the same information for each subset of the data, where `{network}` is one of `youtube, orkut, flickr`, or `livejournal`.\n",
    "\n",
    "\n",
    "* `Results/gbootstrap_{dataset}.csv` contains bootstrapping results for each of the datasets other than large social network data. For large social network data, the same bootstrapping info is available in `Results/{dataset}/gbootstrap_{dataset_with_partition_number}.csv`"
   ]
  },
  {
   "cell_type": "code",
   "execution_count": 2,
   "metadata": {},
   "outputs": [],
   "source": [
    "nonlsn_datasets = [\"cont-hospital\", \"cont-workplace-13\", \"cont-workplace-15\", \n",
    "                \"cont-village\", \"hosp-DAWN\", \"email-Enron\", \n",
    "                \"bills-senate\", \"bills-house\", \"coauth-dblp\",\n",
    "                \"cont-primary-school\", \"cont-high-school\",\n",
    "                \"retail-trivago\"]\n",
    "\n",
    "lsn_datasets = [\"soc-youtube\", \"soc-orkut\", \"soc-flickr\", \"soc-livejournal\"]\n",
    "\n",
    "all_datasets = nonlsn_datasets + lsn_datasets"
   ]
  },
  {
   "cell_type": "markdown",
   "metadata": {},
   "source": [
    "## Figure 1\n",
    "\n",
    "A scatterplot comparing the two homophily scores in each dataset. Confidence intervals can be computed with the bootstrap files."
   ]
  },
  {
   "cell_type": "code",
   "execution_count": 3,
   "metadata": {},
   "outputs": [],
   "source": [
    "# For non lsn, load data\n",
    "data = pd.DataFrame()\n",
    "for i in range(1,9):\n",
    "    i_data = pd.read_csv('../Results/global_homophily_part_'+str(i)+'.csv')\n",
    "    data = pd.concat([data, i_data])"
   ]
  },
  {
   "cell_type": "code",
   "execution_count": 4,
   "metadata": {},
   "outputs": [],
   "source": [
    "# For lsn, load data\n",
    "# Youtube\n",
    "you_data = pd.DataFrame()\n",
    "for i in range(1,2):\n",
    "    i_data = pd.read_csv('../Results/soc-youtube/global_homophily_part_'+str(i)+'.csv')\n",
    "    you_data = pd.concat([you_data, i_data])\n",
    "    \n",
    "# Orkut\n",
    "orkut_data = pd.DataFrame()\n",
    "for i in range(1,9):\n",
    "    i_data = pd.read_csv('../Results/soc-orkut/global_homophily_part_'+str(i)+'.csv')\n",
    "    orkut_data = pd.concat([orkut_data, i_data])\n",
    "    \n",
    "# Flickr\n",
    "flickr_data = pd.DataFrame()\n",
    "for i in range(1,6):\n",
    "    i_data = pd.read_csv('../Results/soc-flickr/global_homophily_part_'+str(i)+'.csv')\n",
    "    flickr_data = pd.concat([flickr_data, i_data])\n",
    "    \n",
    "# LiveJournal\n",
    "live_data = pd.DataFrame()\n",
    "for i in range(1,9):\n",
    "    i_data = pd.read_csv('../Results/soc-livejournal/global_homophily_part_'+str(i)+'.csv')\n",
    "    live_data = pd.concat([live_data, i_data])\n",
    "    "
   ]
  },
  {
   "cell_type": "code",
   "execution_count": 5,
   "metadata": {},
   "outputs": [],
   "source": [
    "# Combine data\n",
    "data = data[['dataset', 'simplicial_ratio', 'hypergraph_ratio']]\n",
    "\n",
    "# Orkut\n",
    "simp_orkut = orkut_data.simplicial_ratio.mean()\n",
    "hyp_orkut = orkut_data.hypergraph_ratio.mean()\n",
    "df2 = {'dataset': 'soc-orkut', 'simplicial_ratio': simp_orkut, 'hypergraph_ratio': hyp_orkut}\n",
    "data = data.append(df2, ignore_index = True)\n",
    "\n",
    "# youtube\n",
    "simp_youtube = you_data.simplicial_ratio.mean()\n",
    "hyp_youtube = you_data.hypergraph_ratio.mean()\n",
    "df2 = {'dataset': 'soc-youtube', 'simplicial_ratio': simp_youtube, 'hypergraph_ratio': hyp_youtube}\n",
    "data = data.append(df2, ignore_index = True)\n",
    "\n",
    "# flickr\n",
    "simp_flickr = flickr_data.simplicial_ratio.mean()\n",
    "hyp_flickr = flickr_data.hypergraph_ratio.mean()\n",
    "df2 = {'dataset': 'soc-flickr', 'simplicial_ratio': simp_flickr, 'hypergraph_ratio': hyp_flickr}\n",
    "data = data.append(df2, ignore_index = True)\n",
    "\n",
    "# Orkut\n",
    "simp_live = live_data.simplicial_ratio.mean()\n",
    "hyp_live = live_data.hypergraph_ratio.mean()\n",
    "df2 = {'dataset': 'soc-livejournal', 'simplicial_ratio': simp_live, 'hypergraph_ratio': hyp_live}\n",
    "data = data.append(df2, ignore_index = True)"
   ]
  },
  {
   "cell_type": "code",
   "execution_count": 6,
   "metadata": {},
   "outputs": [
    {
     "data": {
      "text/html": [
       "<div>\n",
       "<style scoped>\n",
       "    .dataframe tbody tr th:only-of-type {\n",
       "        vertical-align: middle;\n",
       "    }\n",
       "\n",
       "    .dataframe tbody tr th {\n",
       "        vertical-align: top;\n",
       "    }\n",
       "\n",
       "    .dataframe thead th {\n",
       "        text-align: right;\n",
       "    }\n",
       "</style>\n",
       "<table border=\"1\" class=\"dataframe\">\n",
       "  <thead>\n",
       "    <tr style=\"text-align: right;\">\n",
       "      <th></th>\n",
       "      <th>dataset</th>\n",
       "      <th>simplicial_ratio</th>\n",
       "      <th>hypergraph_ratio</th>\n",
       "    </tr>\n",
       "  </thead>\n",
       "  <tbody>\n",
       "    <tr>\n",
       "      <th>0</th>\n",
       "      <td>cont-hospital</td>\n",
       "      <td>1.841063</td>\n",
       "      <td>1.507375</td>\n",
       "    </tr>\n",
       "    <tr>\n",
       "      <th>1</th>\n",
       "      <td>coauth-dblp</td>\n",
       "      <td>0.994578</td>\n",
       "      <td>1.121430</td>\n",
       "    </tr>\n",
       "    <tr>\n",
       "      <th>2</th>\n",
       "      <td>cont-workplace-13</td>\n",
       "      <td>1.099216</td>\n",
       "      <td>1.312091</td>\n",
       "    </tr>\n",
       "    <tr>\n",
       "      <th>3</th>\n",
       "      <td>cont-primary-school</td>\n",
       "      <td>2.937876</td>\n",
       "      <td>15.137376</td>\n",
       "    </tr>\n",
       "    <tr>\n",
       "      <th>4</th>\n",
       "      <td>cont-workplace-15</td>\n",
       "      <td>1.116418</td>\n",
       "      <td>2.166742</td>\n",
       "    </tr>\n",
       "    <tr>\n",
       "      <th>5</th>\n",
       "      <td>cont-high-school</td>\n",
       "      <td>0.953240</td>\n",
       "      <td>4.200367</td>\n",
       "    </tr>\n",
       "    <tr>\n",
       "      <th>6</th>\n",
       "      <td>cont-village</td>\n",
       "      <td>1.145719</td>\n",
       "      <td>4.461018</td>\n",
       "    </tr>\n",
       "    <tr>\n",
       "      <th>7</th>\n",
       "      <td>retail-trivago</td>\n",
       "      <td>0.155230</td>\n",
       "      <td>16.792989</td>\n",
       "    </tr>\n",
       "    <tr>\n",
       "      <th>8</th>\n",
       "      <td>hosp-DAWN</td>\n",
       "      <td>1.971192</td>\n",
       "      <td>3.973396</td>\n",
       "    </tr>\n",
       "    <tr>\n",
       "      <th>9</th>\n",
       "      <td>email-Enron</td>\n",
       "      <td>1.058575</td>\n",
       "      <td>1.195217</td>\n",
       "    </tr>\n",
       "    <tr>\n",
       "      <th>10</th>\n",
       "      <td>bills-senate</td>\n",
       "      <td>1.203577</td>\n",
       "      <td>1.848597</td>\n",
       "    </tr>\n",
       "    <tr>\n",
       "      <th>11</th>\n",
       "      <td>bills-house</td>\n",
       "      <td>0.943474</td>\n",
       "      <td>1.991787</td>\n",
       "    </tr>\n",
       "    <tr>\n",
       "      <th>12</th>\n",
       "      <td>soc-orkut</td>\n",
       "      <td>2.812266</td>\n",
       "      <td>28.727982</td>\n",
       "    </tr>\n",
       "    <tr>\n",
       "      <th>13</th>\n",
       "      <td>soc-youtube</td>\n",
       "      <td>2.552170</td>\n",
       "      <td>10.582880</td>\n",
       "    </tr>\n",
       "    <tr>\n",
       "      <th>14</th>\n",
       "      <td>soc-flickr</td>\n",
       "      <td>1.773061</td>\n",
       "      <td>16.850017</td>\n",
       "    </tr>\n",
       "    <tr>\n",
       "      <th>15</th>\n",
       "      <td>soc-livejournal</td>\n",
       "      <td>1.080328</td>\n",
       "      <td>50.151452</td>\n",
       "    </tr>\n",
       "  </tbody>\n",
       "</table>\n",
       "</div>"
      ],
      "text/plain": [
       "                dataset  simplicial_ratio  hypergraph_ratio\n",
       "0         cont-hospital          1.841063          1.507375\n",
       "1           coauth-dblp          0.994578          1.121430\n",
       "2     cont-workplace-13          1.099216          1.312091\n",
       "3   cont-primary-school          2.937876         15.137376\n",
       "4     cont-workplace-15          1.116418          2.166742\n",
       "5      cont-high-school          0.953240          4.200367\n",
       "6          cont-village          1.145719          4.461018\n",
       "7        retail-trivago          0.155230         16.792989\n",
       "8             hosp-DAWN          1.971192          3.973396\n",
       "9           email-Enron          1.058575          1.195217\n",
       "10         bills-senate          1.203577          1.848597\n",
       "11          bills-house          0.943474          1.991787\n",
       "12            soc-orkut          2.812266         28.727982\n",
       "13          soc-youtube          2.552170         10.582880\n",
       "14           soc-flickr          1.773061         16.850017\n",
       "15      soc-livejournal          1.080328         50.151452"
      ]
     },
     "execution_count": 6,
     "metadata": {},
     "output_type": "execute_result"
    }
   ],
   "source": [
    "data"
   ]
  },
  {
   "cell_type": "code",
   "execution_count": 7,
   "metadata": {},
   "outputs": [],
   "source": [
    "# Group Lists\n",
    "contact_datasets = [\"cont-hospital\", \"cont-workplace-13\", \"cont-workplace-15\", \n",
    "                \"cont-village\", \"cont-primary-school\", \"cont-high-school\"]\n",
    "\n",
    "email_datasets = [\"email-Enron\"]\n",
    "\n",
    "coauthorship_datasets = [\"coaut-dblp\"]\n",
    "\n",
    "political_datasets = [\"bills-senate\", \"bills-house\", ]\n",
    "\n",
    "drug_datasets = [\"hosp-DAWN\"]\n",
    "\n",
    "retail_datasets = [\"retail-trivago\"]\n",
    "\n",
    "lsn_datasets = [\"soc-youtube\", \"soc-orkut\", \"soc-flickr\", \"soc-livejournal\"]"
   ]
  },
  {
   "cell_type": "code",
   "execution_count": 8,
   "metadata": {},
   "outputs": [
    {
     "data": {
      "image/png": "[encoded data removed]",
      "text/plain": [
       "<Figure size 432x360 with 1 Axes>"
      ]
     },
     "metadata": {
      "needs_background": "light"
     },
     "output_type": "display_data"
    }
   ],
   "source": [
    "\n",
    "for ind, row in data.iterrows():\n",
    "    if row['dataset'] in contact_datasets:\n",
    "        data.loc[ind, 'Category'] = 'cont'\n",
    "    elif row['dataset'] in email_datasets:\n",
    "        data.loc[ind, 'Category'] = 'email'\n",
    "    elif row['dataset'] in coauthorship_datasets:\n",
    "        data.loc[ind, 'Category'] = 'coauth'\n",
    "    elif row['dataset'] in political_datasets:\n",
    "        data.loc[ind, 'Category'] = 'bills'\n",
    "    elif row['dataset'] in drug_datasets:\n",
    "        data.loc[ind, 'Category'] = 'hosp'\n",
    "    elif row['dataset'] in retail_datasets:\n",
    "        data.loc[ind, 'Category'] = \"retail\"\n",
    "    elif row['dataset'] in lsn_datasets:\n",
    "        data.loc[ind, 'Category'] = 'soc'\n",
    "        \n",
    "# Set color code\n",
    "colors = {'cont':'red', 'email':'green', 'coauth':'blue', \n",
    "          'bills':'gold', 'hosp':'orange', \"retail\":'purple', 'soc':'black'}\n",
    "\n",
    "data['scattercolor'] = data['Category'].map(colors)\n",
    "\n",
    "# # Plot\n",
    "fig, ax = plt.subplots(figsize=(6,5))\n",
    "\n",
    "for label, color in colors.items():\n",
    "    plt.scatter(data[data['scattercolor'] == color]['hypergraph_ratio'], \n",
    "              data[data['scattercolor'] == color]['simplicial_ratio'], \n",
    "              marker='+', c=color, s=200, label=label)\n",
    "\n",
    "\n",
    "# Make axis limits the same\n",
    "ax.set_ylim([0.1, 100])\n",
    "ax.set_xlim([0.1, 100])\n",
    "\n",
    "\n",
    "# log scale axes\n",
    "ax.set_xscale(\"log\")\n",
    "ax.set_yscale(\"log\")\n",
    "\n",
    "# Add 45 degree line\n",
    "ax.axline([0, 0], [1, 1], color='grey', linestyle='dashed', linewidth=1)\n",
    "\n",
    "\n",
    "ax.hlines(1, 0, 100, color='grey', linestyle='dashed', linewidth=1)\n",
    "\n",
    "ax.vlines(1, 0, 100, color='grey', linestyle='dashed', linewidth=1)\n",
    "\n",
    "\n",
    "# Label Axes\n",
    "ax.set_xlabel('Hypergraph Homophily Score')\n",
    "ax.set_ylabel('2-Simplicial Homophily Score')\n",
    "\n",
    "## make legend\n",
    "ax.legend(loc='upper left', ncol=4)\n",
    "\n",
    "plt.tight_layout()\n",
    "# plt.legend(handles=scatter.legend_elements()[0],\n",
    "#            title=\"Category\")\n",
    "plt.savefig('scatter_coded.png', dpi=300)"
   ]
  },
  {
   "cell_type": "markdown",
   "metadata": {},
   "source": [
    "## Regression"
   ]
  },
  {
   "cell_type": "markdown",
   "metadata": {},
   "source": [
    "### global"
   ]
  },
  {
   "cell_type": "code",
   "execution_count": 9,
   "metadata": {},
   "outputs": [],
   "source": [
    "# For non lsn, load data\n",
    "data = pd.DataFrame()\n",
    "for i in range(1,9):\n",
    "    i_data = pd.read_csv('../Results/global_homophily_part_'+str(i)+'.csv')\n",
    "    data = pd.concat([data, i_data])"
   ]
  },
  {
   "cell_type": "code",
   "execution_count": 10,
   "metadata": {},
   "outputs": [],
   "source": [
    "# For lsn, load data\n",
    "# Youtube\n",
    "you_data = pd.DataFrame()\n",
    "for i in range(1,2):\n",
    "    i_data = pd.read_csv('../Results/soc-youtube/global_homophily_part_'+str(i)+'.csv')\n",
    "    you_data = pd.concat([you_data, i_data])\n",
    "    \n",
    "# Orkut\n",
    "orkut_data = pd.DataFrame()\n",
    "for i in range(1,9):\n",
    "    i_data = pd.read_csv('../Results/soc-orkut/global_homophily_part_'+str(i)+'.csv')\n",
    "    orkut_data = pd.concat([orkut_data, i_data])\n",
    "    \n",
    "# Flickr\n",
    "flickr_data = pd.DataFrame()\n",
    "for i in range(1,6):\n",
    "    i_data = pd.read_csv('../Results/soc-flickr/global_homophily_part_'+str(i)+'.csv')\n",
    "    flickr_data = pd.concat([flickr_data, i_data])\n",
    "    \n",
    "# LiveJournal\n",
    "live_data = pd.DataFrame()\n",
    "for i in range(1,9):\n",
    "    i_data = pd.read_csv('../Results/soc-livejournal/global_homophily_part_'+str(i)+'.csv')\n",
    "    live_data = pd.concat([live_data, i_data])\n",
    "    "
   ]
  },
  {
   "cell_type": "code",
   "execution_count": 11,
   "metadata": {},
   "outputs": [],
   "source": [
    "# Combine data\n",
    "data = data[['dataset', 'simplicial_ratio', 'hypergraph_ratio']]\n",
    "\n",
    "# Orkut\n",
    "simp_orkut = orkut_data.simplicial_ratio.mean()\n",
    "hyp_orkut = orkut_data.hypergraph_ratio.mean()\n",
    "df2 = {'dataset': 'soc-orkut', 'simplicial_ratio': simp_orkut, 'hypergraph_ratio': hyp_orkut}\n",
    "data = data.append(df2, ignore_index = True)\n",
    "\n",
    "# youtube\n",
    "simp_youtube = you_data.simplicial_ratio.mean()\n",
    "hyp_youtube = you_data.hypergraph_ratio.mean()\n",
    "df2 = {'dataset': 'soc-youtube', 'simplicial_ratio': simp_youtube, 'hypergraph_ratio': hyp_youtube}\n",
    "data = data.append(df2, ignore_index = True)\n",
    "\n",
    "# flickr\n",
    "simp_flickr = flickr_data.simplicial_ratio.mean()\n",
    "hyp_flickr = flickr_data.hypergraph_ratio.mean()\n",
    "df2 = {'dataset': 'soc-flickr', 'simplicial_ratio': simp_flickr, 'hypergraph_ratio': hyp_flickr}\n",
    "data = data.append(df2, ignore_index = True)\n",
    "\n",
    "# Orkut\n",
    "simp_live = live_data.simplicial_ratio.mean()\n",
    "hyp_live = live_data.hypergraph_ratio.mean()\n",
    "df2 = {'dataset': 'soc-livejournal', 'simplicial_ratio': simp_live, 'hypergraph_ratio': hyp_live}\n",
    "data = data.append(df2, ignore_index = True)"
   ]
  },
  {
   "cell_type": "code",
   "execution_count": 12,
   "metadata": {},
   "outputs": [],
   "source": [
    "global_data = data.copy()"
   ]
  },
  {
   "cell_type": "markdown",
   "metadata": {},
   "source": [
    "### edge"
   ]
  },
  {
   "cell_type": "code",
   "execution_count": 13,
   "metadata": {},
   "outputs": [],
   "source": [
    "# For non lsn, load data\n",
    "data = pd.DataFrame()\n",
    "for i in range(1,9):\n",
    "    i_data = pd.read_csv('../Results/edge_homophily_part_'+str(i)+'.csv')\n",
    "    data = pd.concat([data, i_data])"
   ]
  },
  {
   "cell_type": "code",
   "execution_count": 14,
   "metadata": {},
   "outputs": [],
   "source": [
    "# For lsn, load data\n",
    "# Youtube\n",
    "you_data = pd.DataFrame()\n",
    "for i in range(1,2):\n",
    "    i_data = pd.read_csv('../Results/soc-youtube/edge_homophily_part_'+str(i)+'.csv')\n",
    "    you_data = pd.concat([you_data, i_data])\n",
    "    \n",
    "# Orkut\n",
    "orkut_data = pd.DataFrame()\n",
    "for i in range(1,9):\n",
    "    i_data = pd.read_csv('../Results/soc-orkut/edge_homophily_part_'+str(i)+'.csv')\n",
    "    orkut_data = pd.concat([orkut_data, i_data])\n",
    "    \n",
    "# Flickr\n",
    "flickr_data = pd.DataFrame()\n",
    "for i in range(1,6):\n",
    "    i_data = pd.read_csv('../Results/soc-flickr/edge_homophily_part_'+str(i)+'.csv')\n",
    "    flickr_data = pd.concat([flickr_data, i_data])\n",
    "    \n",
    "# LiveJournal\n",
    "live_data = pd.DataFrame()\n",
    "for i in range(1,9):\n",
    "    i_data = pd.read_csv('../Results/soc-livejournal/edge_homophily_part_'+str(i)+'.csv')\n",
    "    live_data = pd.concat([live_data, i_data])\n",
    "    "
   ]
  },
  {
   "cell_type": "code",
   "execution_count": 15,
   "metadata": {},
   "outputs": [],
   "source": [
    "# Combine data\n",
    "data = data[['dataset', 'edge_homophily_ratio']]\n",
    "\n",
    "# Orkut\n",
    "simp_orkut = orkut_data.edge_homophily_ratio.mean()\n",
    "df2 = {'dataset': 'soc-orkut', 'edge_homophily_ratio': simp_orkut}\n",
    "data = data.append(df2, ignore_index = True)\n",
    "\n",
    "# youtube\n",
    "simp_youtube = you_data.edge_homophily_ratio.mean()\n",
    "df2 = {'dataset': 'soc-youtube', 'edge_homophily_ratio': simp_youtube}\n",
    "data = data.append(df2, ignore_index = True)\n",
    "\n",
    "# flickr\n",
    "simp_flickr = flickr_data.edge_homophily_ratio.mean()\n",
    "df2 = {'dataset': 'soc-flickr', 'edge_homophily_ratio': simp_flickr}\n",
    "data = data.append(df2, ignore_index = True)\n",
    "\n",
    "# Orkut\n",
    "simp_live = live_data.edge_homophily_ratio.mean()\n",
    "df2 = {'dataset': 'soc-livejournal', 'edge_homophily_ratio': simp_live}\n",
    "data = data.append(df2, ignore_index = True)"
   ]
  },
  {
   "cell_type": "code",
   "execution_count": 16,
   "metadata": {},
   "outputs": [],
   "source": [
    "edge_data = data.copy()"
   ]
  },
  {
   "cell_type": "markdown",
   "metadata": {},
   "source": [
    "### Combine"
   ]
  },
  {
   "cell_type": "code",
   "execution_count": 17,
   "metadata": {},
   "outputs": [],
   "source": [
    "homophily_df = global_data.merge(edge_data, on = 'dataset')"
   ]
  },
  {
   "cell_type": "code",
   "execution_count": 18,
   "metadata": {},
   "outputs": [
    {
     "data": {
      "text/html": [
       "<div>\n",
       "<style scoped>\n",
       "    .dataframe tbody tr th:only-of-type {\n",
       "        vertical-align: middle;\n",
       "    }\n",
       "\n",
       "    .dataframe tbody tr th {\n",
       "        vertical-align: top;\n",
       "    }\n",
       "\n",
       "    .dataframe thead th {\n",
       "        text-align: right;\n",
       "    }\n",
       "</style>\n",
       "<table border=\"1\" class=\"dataframe\">\n",
       "  <thead>\n",
       "    <tr style=\"text-align: right;\">\n",
       "      <th></th>\n",
       "      <th>dataset</th>\n",
       "      <th>simplicial_ratio</th>\n",
       "      <th>hypergraph_ratio</th>\n",
       "      <th>edge_homophily_ratio</th>\n",
       "    </tr>\n",
       "  </thead>\n",
       "  <tbody>\n",
       "    <tr>\n",
       "      <th>0</th>\n",
       "      <td>cont-hospital</td>\n",
       "      <td>1.841063</td>\n",
       "      <td>1.507375</td>\n",
       "      <td>0.901533</td>\n",
       "    </tr>\n",
       "    <tr>\n",
       "      <th>1</th>\n",
       "      <td>coauth-dblp</td>\n",
       "      <td>0.994578</td>\n",
       "      <td>1.121430</td>\n",
       "      <td>1.059497</td>\n",
       "    </tr>\n",
       "    <tr>\n",
       "      <th>2</th>\n",
       "      <td>cont-workplace-13</td>\n",
       "      <td>1.099216</td>\n",
       "      <td>1.312091</td>\n",
       "      <td>1.069626</td>\n",
       "    </tr>\n",
       "    <tr>\n",
       "      <th>3</th>\n",
       "      <td>cont-primary-school</td>\n",
       "      <td>2.937876</td>\n",
       "      <td>15.137376</td>\n",
       "      <td>1.630380</td>\n",
       "    </tr>\n",
       "    <tr>\n",
       "      <th>4</th>\n",
       "      <td>cont-workplace-15</td>\n",
       "      <td>1.116418</td>\n",
       "      <td>2.166742</td>\n",
       "      <td>1.317394</td>\n",
       "    </tr>\n",
       "    <tr>\n",
       "      <th>5</th>\n",
       "      <td>cont-high-school</td>\n",
       "      <td>0.953240</td>\n",
       "      <td>4.200367</td>\n",
       "      <td>1.569245</td>\n",
       "    </tr>\n",
       "    <tr>\n",
       "      <th>6</th>\n",
       "      <td>cont-village</td>\n",
       "      <td>1.145719</td>\n",
       "      <td>4.461018</td>\n",
       "      <td>1.807987</td>\n",
       "    </tr>\n",
       "    <tr>\n",
       "      <th>7</th>\n",
       "      <td>retail-trivago</td>\n",
       "      <td>0.155230</td>\n",
       "      <td>16.792989</td>\n",
       "      <td>8.964654</td>\n",
       "    </tr>\n",
       "    <tr>\n",
       "      <th>8</th>\n",
       "      <td>hosp-DAWN</td>\n",
       "      <td>1.971192</td>\n",
       "      <td>3.973396</td>\n",
       "      <td>2.228562</td>\n",
       "    </tr>\n",
       "    <tr>\n",
       "      <th>9</th>\n",
       "      <td>email-Enron</td>\n",
       "      <td>1.058575</td>\n",
       "      <td>1.195217</td>\n",
       "      <td>1.058323</td>\n",
       "    </tr>\n",
       "    <tr>\n",
       "      <th>10</th>\n",
       "      <td>bills-senate</td>\n",
       "      <td>1.203577</td>\n",
       "      <td>1.848597</td>\n",
       "      <td>1.185958</td>\n",
       "    </tr>\n",
       "    <tr>\n",
       "      <th>11</th>\n",
       "      <td>bills-house</td>\n",
       "      <td>0.943474</td>\n",
       "      <td>1.991787</td>\n",
       "      <td>1.315464</td>\n",
       "    </tr>\n",
       "    <tr>\n",
       "      <th>12</th>\n",
       "      <td>soc-orkut</td>\n",
       "      <td>2.812266</td>\n",
       "      <td>28.727982</td>\n",
       "      <td>2.907022</td>\n",
       "    </tr>\n",
       "    <tr>\n",
       "      <th>13</th>\n",
       "      <td>soc-youtube</td>\n",
       "      <td>2.552170</td>\n",
       "      <td>10.582880</td>\n",
       "      <td>2.282284</td>\n",
       "    </tr>\n",
       "    <tr>\n",
       "      <th>14</th>\n",
       "      <td>soc-flickr</td>\n",
       "      <td>1.773061</td>\n",
       "      <td>16.850017</td>\n",
       "      <td>2.286251</td>\n",
       "    </tr>\n",
       "    <tr>\n",
       "      <th>15</th>\n",
       "      <td>soc-livejournal</td>\n",
       "      <td>1.080328</td>\n",
       "      <td>50.151452</td>\n",
       "      <td>6.194136</td>\n",
       "    </tr>\n",
       "  </tbody>\n",
       "</table>\n",
       "</div>"
      ],
      "text/plain": [
       "                dataset  simplicial_ratio  hypergraph_ratio  \\\n",
       "0         cont-hospital          1.841063          1.507375   \n",
       "1           coauth-dblp          0.994578          1.121430   \n",
       "2     cont-workplace-13          1.099216          1.312091   \n",
       "3   cont-primary-school          2.937876         15.137376   \n",
       "4     cont-workplace-15          1.116418          2.166742   \n",
       "5      cont-high-school          0.953240          4.200367   \n",
       "6          cont-village          1.145719          4.461018   \n",
       "7        retail-trivago          0.155230         16.792989   \n",
       "8             hosp-DAWN          1.971192          3.973396   \n",
       "9           email-Enron          1.058575          1.195217   \n",
       "10         bills-senate          1.203577          1.848597   \n",
       "11          bills-house          0.943474          1.991787   \n",
       "12            soc-orkut          2.812266         28.727982   \n",
       "13          soc-youtube          2.552170         10.582880   \n",
       "14           soc-flickr          1.773061         16.850017   \n",
       "15      soc-livejournal          1.080328         50.151452   \n",
       "\n",
       "    edge_homophily_ratio  \n",
       "0               0.901533  \n",
       "1               1.059497  \n",
       "2               1.069626  \n",
       "3               1.630380  \n",
       "4               1.317394  \n",
       "5               1.569245  \n",
       "6               1.807987  \n",
       "7               8.964654  \n",
       "8               2.228562  \n",
       "9               1.058323  \n",
       "10              1.185958  \n",
       "11              1.315464  \n",
       "12              2.907022  \n",
       "13              2.282284  \n",
       "14              2.286251  \n",
       "15              6.194136  "
      ]
     },
     "execution_count": 18,
     "metadata": {},
     "output_type": "execute_result"
    }
   ],
   "source": [
    "homophily_df"
   ]
  },
  {
   "cell_type": "markdown",
   "metadata": {},
   "source": [
    "### Regress"
   ]
  },
  {
   "cell_type": "code",
   "execution_count": 19,
   "metadata": {},
   "outputs": [],
   "source": [
    "from sklearn import datasets, linear_model\n",
    "from sklearn.metrics import mean_squared_error, r2_score\n",
    "import numpy as np\n",
    "import statsmodels.api as sm"
   ]
  },
  {
   "cell_type": "markdown",
   "metadata": {},
   "source": [
    "#### Hypergraph"
   ]
  },
  {
   "cell_type": "code",
   "execution_count": 20,
   "metadata": {},
   "outputs": [],
   "source": [
    "# Log-log\n",
    "X = np.log(homophily_df['edge_homophily_ratio'].to_numpy())\n",
    "Y = np.log(homophily_df['hypergraph_ratio'].to_numpy())\n",
    "# X = np.column_stack((vac_arr, mob_arr))\n",
    "# Y = reg_data['gamma_t_3'].to_numpy()\n",
    "X = sm.add_constant(X)\n",
    "\n",
    "model = sm.OLS(Y,X)\n",
    "results = model.fit()"
   ]
  },
  {
   "cell_type": "code",
   "execution_count": 21,
   "metadata": {},
   "outputs": [
    {
     "name": "stdout",
     "output_type": "stream",
     "text": [
      "                            OLS Regression Results                            \n",
      "==============================================================================\n",
      "Dep. Variable:                      y   R-squared:                       0.698\n",
      "Model:                            OLS   Adj. R-squared:                  0.676\n",
      "Method:                 Least Squares   F-statistic:                     32.33\n",
      "Date:                Thu, 10 Feb 2022   Prob (F-statistic):           5.62e-05\n",
      "Time:                        00:27:13   Log-Likelihood:                -16.115\n",
      "No. Observations:                  16   AIC:                             36.23\n",
      "Df Residuals:                      14   BIC:                             37.78\n",
      "Df Model:                           1                                         \n",
      "Covariance Type:            nonrobust                                         \n",
      "==============================================================================\n",
      "                 coef    std err          t      P>|t|      [0.025      0.975]\n",
      "------------------------------------------------------------------------------\n",
      "const          0.5866      0.249      2.353      0.034       0.052       1.121\n",
      "x1             1.6185      0.285      5.686      0.000       1.008       2.229\n",
      "==============================================================================\n",
      "Omnibus:                        0.581   Durbin-Watson:                   1.606\n",
      "Prob(Omnibus):                  0.748   Jarque-Bera (JB):                0.346\n",
      "Skew:                           0.333   Prob(JB):                        0.841\n",
      "Kurtosis:                       2.724   Cond. No.                         2.43\n",
      "==============================================================================\n",
      "\n",
      "Notes:\n",
      "[1] Standard Errors assume that the covariance matrix of the errors is correctly specified.\n"
     ]
    },
    {
     "name": "stderr",
     "output_type": "stream",
     "text": [
      "/state/partition1/llgrid/pkg/anaconda/anaconda3-2021a/lib/python3.8/site-packages/scipy/stats/stats.py:1603: UserWarning: kurtosistest only valid for n>=20 ... continuing anyway, n=16\n",
      "  warnings.warn(\"kurtosistest only valid for n>=20 ... continuing \"\n"
     ]
    }
   ],
   "source": [
    "print(results.summary())"
   ]
  },
  {
   "cell_type": "markdown",
   "metadata": {},
   "source": [
    "#### Simplicial"
   ]
  },
  {
   "cell_type": "code",
   "execution_count": 22,
   "metadata": {},
   "outputs": [],
   "source": [
    "# Log-log\n",
    "X = np.log(homophily_df['edge_homophily_ratio'].to_numpy())\n",
    "Y = np.log(homophily_df['simplicial_ratio'].to_numpy())\n",
    "X = sm.add_constant(X)\n",
    "\n",
    "model = sm.OLS(Y,X)\n",
    "results = model.fit()"
   ]
  },
  {
   "cell_type": "code",
   "execution_count": 23,
   "metadata": {},
   "outputs": [
    {
     "name": "stdout",
     "output_type": "stream",
     "text": [
      "                            OLS Regression Results                            \n",
      "==============================================================================\n",
      "Dep. Variable:                      y   R-squared:                       0.167\n",
      "Model:                            OLS   Adj. R-squared:                  0.107\n",
      "Method:                 Least Squares   F-statistic:                     2.799\n",
      "Date:                Thu, 10 Feb 2022   Prob (F-statistic):              0.117\n",
      "Time:                        00:27:14   Log-Likelihood:                -14.655\n",
      "No. Observations:                  16   AIC:                             33.31\n",
      "Df Residuals:                      14   BIC:                             34.85\n",
      "Df Model:                           1                                         \n",
      "Covariance Type:            nonrobust                                         \n",
      "==============================================================================\n",
      "                 coef    std err          t      P>|t|      [0.025      0.975]\n",
      "------------------------------------------------------------------------------\n",
      "const          0.4928      0.228      2.166      0.048       0.005       0.981\n",
      "x1            -0.4347      0.260     -1.673      0.117      -0.992       0.123\n",
      "==============================================================================\n",
      "Omnibus:                        0.414   Durbin-Watson:                   1.968\n",
      "Prob(Omnibus):                  0.813   Jarque-Bera (JB):                0.164\n",
      "Skew:                          -0.228   Prob(JB):                        0.921\n",
      "Kurtosis:                       2.805   Cond. No.                         2.43\n",
      "==============================================================================\n",
      "\n",
      "Notes:\n",
      "[1] Standard Errors assume that the covariance matrix of the errors is correctly specified.\n"
     ]
    },
    {
     "name": "stderr",
     "output_type": "stream",
     "text": [
      "/state/partition1/llgrid/pkg/anaconda/anaconda3-2021a/lib/python3.8/site-packages/scipy/stats/stats.py:1603: UserWarning: kurtosistest only valid for n>=20 ... continuing anyway, n=16\n",
      "  warnings.warn(\"kurtosistest only valid for n>=20 ... continuing \"\n"
     ]
    }
   ],
   "source": [
    "print(results.summary())"
   ]
  },
  {
   "cell_type": "markdown",
   "metadata": {},
   "source": [
    "### Plot"
   ]
  },
  {
   "cell_type": "code",
   "execution_count": 24,
   "metadata": {},
   "outputs": [
    {
     "data": {
      "image/png": "[encoded data removed]",
      "text/plain": [
       "<Figure size 432x288 with 1 Axes>"
      ]
     },
     "metadata": {
      "needs_background": "light"
     },
     "output_type": "display_data"
    }
   ],
   "source": [
    "fig, ax = plt.subplots()\n",
    "\n",
    "plt.scatter(homophily_df['edge_homophily_ratio'], homophily_df['hypergraph_ratio'])\n",
    "ax.set_yscale('log')\n",
    "ax.set_xscale('log')"
   ]
  },
  {
   "cell_type": "code",
   "execution_count": 25,
   "metadata": {},
   "outputs": [
    {
     "data": {
      "image/png": "[encoded data removed]",
      "text/plain": [
       "<Figure size 432x288 with 1 Axes>"
      ]
     },
     "metadata": {
      "needs_background": "light"
     },
     "output_type": "display_data"
    }
   ],
   "source": [
    "fig, ax = plt.subplots()\n",
    "\n",
    "plt.scatter(homophily_df['edge_homophily_ratio'], homophily_df['simplicial_ratio'])\n",
    "ax.set_yscale('log')\n",
    "ax.set_xscale('log')"
   ]
  },
  {
   "cell_type": "code",
   "execution_count": null,
   "metadata": {},
   "outputs": [],
   "source": []
  },
  {
   "cell_type": "code",
   "execution_count": null,
   "metadata": {},
   "outputs": [],
   "source": []
  }
 ],
 "metadata": {
  "kernelspec": {
   "display_name": "Python 3",
   "language": "python",
   "name": "python3"
  },
  "language_info": {
   "codemirror_mode": {
    "name": "ipython",
    "version": 3
   },
   "file_extension": ".py",
   "mimetype": "text/x-python",
   "name": "python",
   "nbconvert_exporter": "python",
   "pygments_lexer": "ipython3",
   "version": "3.8.5"
  },
  "latex_envs": {
   "LaTeX_envs_menu_present": true,
   "autoclose": false,
   "autocomplete": true,
   "bibliofile": "biblio.bib",
   "cite_by": "apalike",
   "current_citInitial": 1,
   "eqLabelWithNumbers": true,
   "eqNumInitial": 1,
   "hotkeys": {
    "equation": "Ctrl-E",
    "itemize": "Ctrl-I"
   },
   "labels_anchors": false,
   "latex_user_defs": false,
   "report_style_numbering": false,
   "user_envs_cfg": false
  },
  "toc": {
   "base_numbering": 1,
   "nav_menu": {},
   "number_sections": true,
   "sideBar": true,
   "skip_h1_title": false,
   "title_cell": "Table of Contents",
   "title_sidebar": "Contents",
   "toc_cell": false,
   "toc_position": {},
   "toc_section_display": true,
   "toc_window_display": false
  },
  "varInspector": {
   "cols": {
    "lenName": 16,
    "lenType": 16,
    "lenVar": 40
   },
   "kernels_config": {
    "python": {
     "delete_cmd_postfix": "",
     "delete_cmd_prefix": "del ",
     "library": "var_list.py",
     "varRefreshCmd": "print(var_dic_list())"
    },
    "r": {
     "delete_cmd_postfix": ") ",
     "delete_cmd_prefix": "rm(",
     "library": "var_list.r",
     "varRefreshCmd": "cat(var_dic_list()) "
    }
   },
   "types_to_exclude": [
    "module",
    "function",
    "builtin_function_or_method",
    "instance",
    "_Feature"
   ],
   "window_display": false
  }
 },
 "nbformat": 4,
 "nbformat_minor": 4
}

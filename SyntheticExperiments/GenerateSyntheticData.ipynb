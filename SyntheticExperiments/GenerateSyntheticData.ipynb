{
 "cells": [
  {
   "cell_type": "code",
   "execution_count": 1,
   "metadata": {},
   "outputs": [],
   "source": [
    "import pandas as pd\n",
    "import numpy as np\n",
    "import networkx as nx\n",
    "import os\n",
    "import pickle\n",
    "\n",
    "def create_triangle_list(G):\n",
    "    elist = list(G.edges())\n",
    "    num_edges = len(elist)\n",
    "    num_nodes = nx.number_of_nodes(G)\n",
    "    \n",
    "    triangles = []\n",
    "    for e in elist:\n",
    "        # consider the elist to be in form i, j\n",
    "        i, j = e\n",
    "        # neigbors of i are all nodes k that appears in the list\n",
    "        first_node_neighbors = set(G.neighbors(i))\n",
    "        # same for node j\n",
    "        second_node_neighbors = set(G.neighbors(j))\n",
    "\n",
    "        # find intersection between those neighbors => triangle\n",
    "        common_neighbors = list(first_node_neighbors & second_node_neighbors)\n",
    "        \n",
    "        for t in common_neighbors:\n",
    "            curr_triangle = np.sort([i,j,t])\n",
    "            triangles.append(curr_triangle)\n",
    "    possible_ts = np.unique(triangles, axis=0)\n",
    "    return possible_ts"
   ]
  },
  {
   "cell_type": "markdown",
   "metadata": {},
   "source": [
    "## Simplicial Stochastic Block Model\n",
    "This is an example of a stochastic block model for simplicial complexes, which is built generatively much like the $\\D elta$-ensemble of Kahle (Topology of random simplicial complexes: A survey) but with two communities.\n",
    "\n",
    "The model is built by first establishing nodes, then edges, and then triangles.\n",
    "Nodes are split into two communities (we'll do even amounts of nodes in each), then edges are placed at random within a community with probability $p_1$ and between communities with probability $q_1$.\n",
    "Then, triangles are placed inside closed triangles of the graph, with probability $p_2$ if all nodes are within the same community and probability $q_2$ otherwise. "
   ]
  },
  {
   "cell_type": "code",
   "execution_count": 2,
   "metadata": {},
   "outputs": [],
   "source": [
    "## 2 types of sweeps: first on p1/q1 and second on p2/q2\n",
    "# convention: (n, p1, q1, p2, q2): base model of (1000, 0.05, 0.01, 0.15, 0.7)\n",
    "models = {}\n",
    "\n",
    "# sweep 1\n",
    "for idx in range(1, 10):\n",
    "    p1mult = 30**((idx - 5) / 5)\n",
    "    q1 = 0.01\n",
    "    models[f'ssbm-sweep1-{idx}'] = (1000, p1mult*q1, q1, 0.15, 0.7)\n",
    "\n",
    "# sweep 2    \n",
    "for idx in range(1, 10):\n",
    "    q2mult = 5**((idx - 5) / 5)\n",
    "    p2 = 0.15\n",
    "    models[f'ssbm-sweep2-{idx}'] = (1000, 0.05, 0.01, p2, q2mult * p2)   \n",
    "pickle.dump(models, open(\"models.pkl\", \"wb\"))"
   ]
  },
  {
   "cell_type": "code",
   "execution_count": null,
   "metadata": {},
   "outputs": [],
   "source": [
    "# number of datasets per model\n",
    "num_trials = 50\n",
    "\n",
    "for model_name, params in models.items():\n",
    "    n, p1, q1, p2, q2 = params\n",
    "    for trial_no in range(num_trials):\n",
    "        # Determine edges with a stochastic block model\n",
    "        ns = np.array([n, n])\n",
    "        P = np.array([[p1, q1], [q1, p1]])\n",
    "\n",
    "        G = nx.stochastic_block_model(ns, P)\n",
    "\n",
    "        closed_tlist = create_triangle_list(G)\n",
    "\n",
    "        elist = [sorted(e) for e in G.edges()]\n",
    "\n",
    "        tlist = []\n",
    "        for t in closed_tlist:\n",
    "            if np.all(t < n) or np.all(t >= n):\n",
    "                if (np.random.random() < p2):\n",
    "                    tlist.append(t)\n",
    "            else:\n",
    "                if (np.random.random() < q2):\n",
    "                    tlist.append(t)\n",
    "\n",
    "        labels = [(k, (k >= n)*1) for k in range(2*n)]\n",
    "\n",
    "        ldf = pd.DataFrame(labels)\n",
    "        ldf.columns = ['id', 'group_code']\n",
    "\n",
    "        edf = pd.DataFrame(elist)\n",
    "        edf.columns = ['node_1', 'node_2']\n",
    "\n",
    "        tdf = pd.DataFrame(tlist)\n",
    "        tdf.columns = ['node_1', 'node_2', 'node_3']\n",
    "\n",
    "        cdf = pd.DataFrame(closed_tlist)\n",
    "        cdf.columns = ['node_1', 'node_2', 'node_3']\n",
    "\n",
    "        os.makedirs(f\"ssbm/{model_name}-{trial_no}\", exist_ok=True)\n",
    "        ldf.to_csv(f\"ssbm/{model_name}-{trial_no}/labels.csv\", index=False)\n",
    "        edf.to_csv(f\"ssbm/{model_name}-{trial_no}/edges.csv\", index=False)\n",
    "        tdf.to_csv(f\"ssbm/{model_name}-{trial_no}/triangles.csv\", index=False)\n",
    "        cdf.to_csv(f\"ssbm/{model_name}-{trial_no}/all_closed_triangles.csv\", index=False)"
   ]
  },
  {
   "cell_type": "code",
   "execution_count": null,
   "metadata": {},
   "outputs": [],
   "source": []
  },
  {
   "cell_type": "code",
   "execution_count": null,
   "metadata": {},
   "outputs": [],
   "source": []
  }
 ],
 "metadata": {
  "kernelspec": {
   "display_name": "Python 3",
   "language": "python",
   "name": "python3"
  },
  "language_info": {
   "codemirror_mode": {
    "name": "ipython",
    "version": 3
   },
   "file_extension": ".py",
   "mimetype": "text/x-python",
   "name": "python",
   "nbconvert_exporter": "python",
   "pygments_lexer": "ipython3",
   "version": "3.8.5"
  },
  "latex_envs": {
   "LaTeX_envs_menu_present": true,
   "autoclose": false,
   "autocomplete": true,
   "bibliofile": "biblio.bib",
   "cite_by": "apalike",
   "current_citInitial": 1,
   "eqLabelWithNumbers": true,
   "eqNumInitial": 1,
   "hotkeys": {
    "equation": "Ctrl-E",
    "itemize": "Ctrl-I"
   },
   "labels_anchors": false,
   "latex_user_defs": false,
   "report_style_numbering": false,
   "user_envs_cfg": false
  },
  "toc": {
   "base_numbering": 1,
   "nav_menu": {},
   "number_sections": true,
   "sideBar": true,
   "skip_h1_title": false,
   "title_cell": "Table of Contents",
   "title_sidebar": "Contents",
   "toc_cell": false,
   "toc_position": {},
   "toc_section_display": true,
   "toc_window_display": false
  },
  "varInspector": {
   "cols": {
    "lenName": 16,
    "lenType": 16,
    "lenVar": 40
   },
   "kernels_config": {
    "python": {
     "delete_cmd_postfix": "",
     "delete_cmd_prefix": "del ",
     "library": "var_list.py",
     "varRefreshCmd": "print(var_dic_list())"
    },
    "r": {
     "delete_cmd_postfix": ") ",
     "delete_cmd_prefix": "rm(",
     "library": "var_list.r",
     "varRefreshCmd": "cat(var_dic_list()) "
    }
   },
   "types_to_exclude": [
    "module",
    "function",
    "builtin_function_or_method",
    "instance",
    "_Feature"
   ],
   "window_display": false
  }
 },
 "nbformat": 4,
 "nbformat_minor": 4
}
